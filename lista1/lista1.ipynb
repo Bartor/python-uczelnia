{
  "nbformat": 4,
  "nbformat_minor": 0,
  "metadata": {
    "kernelspec": {
      "display_name": "Python 3",
      "language": "python",
      "name": "python3"
    },
    "language_info": {
      "codemirror_mode": {
        "name": "ipython",
        "version": 3
      },
      "file_extension": ".py",
      "mimetype": "text/x-python",
      "name": "python",
      "nbconvert_exporter": "python",
      "pygments_lexer": "ipython3",
      "version": "3.7.0-final"
    },
    "colab": {
      "name": "lista1.ipynb",
      "provenance": [],
      "collapsed_sections": []
    }
  },
  "cells": [
    {
      "cell_type": "markdown",
      "metadata": {
        "colab_type": "text",
        "id": "CBeF82RNdRai"
      },
      "source": [
        "# Lista 1\n",
        "\n",
        "## Kurs wybranego języka programowania (Python)\n",
        "\n",
        "Wszystkie rozwiązania proszę wpisać w tym notatniku poniżej treści zadań. Zadania z `*` to zadania dodatkowe."
      ]
    },
    {
      "cell_type": "markdown",
      "metadata": {
        "colab_type": "text",
        "id": "c1PzLTeudRaq"
      },
      "source": [
        "## Zadanie 1 _(5pt)_\n",
        "\n",
        "Napisz funkcję, który wyświetla trójkąt Pascala o zadanej wysokości\n",
        "```\n",
        "                1\n",
        "              1   1\n",
        "            1   2   1\n",
        "          1   3   3   1\n",
        "        1   4   6   4   1\n",
        "      .....................\n",
        "```"
      ]
    },
    {
      "cell_type": "code",
      "execution_count": 1,
      "metadata": {},
      "outputs": [
        {
          "name": "stdout",
          "output_type": "stream",
          "text": "\n\n1 \n\n1 1 \n\n1 2 1 \n\n1 3 3 1 \n\n1 4 6 4 1 \n\n1 5 10 10 5 1 \n\n1 6 15 20 15 6 1 \n\n1 7 21 35 35 21 7 1 \n\n1 8 28 56 70 56 28 8 1 \n\n"
        }
      ],
      "source": [
        "def pascal_triangle(n):\n",
        "  for row in range(n):\n",
        "    value = 1\n",
        "    for column in range(1, row + 1):\n",
        "      print(int(value), end = \" \")\n",
        "      value = value * (row - column) / (column)\n",
        "    print(\"\\n\")\n",
        "\n",
        "pascal_triangle(10)"
      ]
    },
    {
      "cell_type": "markdown",
      "metadata": {
        "colab_type": "text",
        "id": "T7VJ65HGdRbL"
      },
      "source": [
        "\n",
        "## Zadanie 2 _(5pt)_\n",
        "\n",
        "Napisz funkcję `primes(n)` zwracająca listę liczb pierwszych nie większych niż $n$ np.\n",
        "\n",
        "```\n",
        "In [ ]:   primes(6)\n",
        "Out [ ]: [2, 3, 5]\n",
        "```"
      ]
    },
    {
      "cell_type": "code",
      "execution_count": 193,
      "metadata": {
        "colab": {
          "base_uri": "https://localhost:8080/",
          "height": 442
        },
        "colab_type": "code",
        "id": "iOCl7w2hdRbO",
        "outputId": "cc472fd5-7cec-4f08-eb44-b48e61ec0705"
      },
      "outputs": [
        {
          "data": {
            "text/plain": [
              "[2,\n",
              " 3,\n",
              " 5,\n",
              " 7,\n",
              " 11,\n",
              " 13,\n",
              " 17,\n",
              " 19,\n",
              " 23,\n",
              " 29,\n",
              " 31,\n",
              " 37,\n",
              " 41,\n",
              " 43,\n",
              " 47,\n",
              " 53,\n",
              " 59,\n",
              " 61,\n",
              " 67,\n",
              " 71,\n",
              " 73,\n",
              " 79,\n",
              " 83,\n",
              " 89,\n",
              " 97]"
            ]
          },
          "execution_count": 193,
          "metadata": {
            "tags": []
          },
          "output_type": "execute_result"
        }
      ],
      "source": [
        "def primes(n):\n",
        "  primes = []\n",
        "  for number in range(2, n):\n",
        "    if all(number % prime != 0 for prime in primes):\n",
        "      primes.append(number)\n",
        "  return primes\n",
        "\n",
        "  \n",
        "primes(100)"
      ]
    },
    {
      "cell_type": "markdown",
      "metadata": {
        "colab_type": "text",
        "id": "64gogzgidRbZ"
      },
      "source": [
        "## Zadanie 3 _(5pt)_\n",
        "\n",
        "Napisz funkcje, która usuwa wszystkie powtarzające się elementy z listy (tak, że każdy element występuje tylko raz) np. z listy `[1,1,2,2,2,3,3,5,5,5,4,4,4,0]` dostajemy `[1,2,3,5,4,0]`."
      ]
    },
    {
      "cell_type": "code",
      "execution_count": 194,
      "metadata": {
        "colab": {
          "base_uri": "https://localhost:8080/",
          "height": 34
        },
        "colab_type": "code",
        "id": "g8oSf8KKdRbe",
        "outputId": "def50ba0-01c0-4c31-fe7b-9c8a7bf2ef73"
      },
      "outputs": [
        {
          "data": {
            "text/plain": [
              "[1, 2, 3, 5, 4, 0]"
            ]
          },
          "execution_count": 194,
          "metadata": {
            "tags": []
          },
          "output_type": "execute_result"
        }
      ],
      "source": [
        "def remove_reps(list):\n",
        "  return [item for i, item in enumerate(list) if list.index(item) == i]\n",
        "\n",
        "remove_reps([1,1,2,2,2,3,3,5,5,5,4,4,4,0])"
      ]
    },
    {
      "cell_type": "markdown",
      "metadata": {
        "colab_type": "text",
        "id": "SPpDQNdzdRbu"
      },
      "source": [
        "\n",
        "## Zadanie 4 _(10pt)_\n",
        "\n",
        "Napisz funkcję `prime_factors(n)`, która rozkłada $n$ na czynniki pierwsze i jako wynik wraca listę par $[(p_1,\\alpha_1), (p_2,\\alpha_2), \\ldots, (p_k, \\alpha_k)]$ taką, że $p_1^{\\alpha_1}p_2^{\\alpha_2}\\ldots p_k^{\\alpha_k}$.\n"
      ]
    },
    {
      "cell_type": "code",
      "execution_count": 195,
      "metadata": {
        "colab": {
          "base_uri": "https://localhost:8080/",
          "height": 34
        },
        "colab_type": "code",
        "id": "ruYMKQ9AdRbx",
        "outputId": "d03b49a1-a0d5-4db2-c82e-7269971b31ba"
      },
      "outputs": [
        {
          "data": {
            "text/plain": [
              "[(2, 4), (3, 1), (5, 2)]"
            ]
          },
          "execution_count": 195,
          "metadata": {
            "tags": []
          },
          "output_type": "execute_result"
        }
      ],
      "source": [
        "import math\n",
        "\n",
        "def prime_factors(n):\n",
        "  result = []\n",
        "  for divider in range(2, math.ceil(math.sqrt(n))):\n",
        "    power = 0\n",
        "    while (n % divider == 0):\n",
        "      power += 1\n",
        "      n = n // divider\n",
        "    if (power > 0):\n",
        "      result.append((divider, power))\n",
        "\n",
        "  return result\n",
        "\n",
        "prime_factors(1200)"
      ]
    },
    {
      "cell_type": "markdown",
      "metadata": {
        "colab_type": "text",
        "id": "Y6_Aj9dpdRb6"
      },
      "source": [
        "## Zadanie 5 _(10pt)_\n",
        "\n",
        "Napisz funkcję `fraczero(n)` liczącą silnie $n!$ dla $n$ od $0$ do $10000$ oraz jako wynik wraca liczbę zer na końcu $n!$."
      ]
    },
    {
      "cell_type": "code",
      "execution_count": 196,
      "metadata": {
        "colab": {
          "base_uri": "https://localhost:8080/",
          "height": 34
        },
        "colab_type": "code",
        "id": "-7JhJHoydRb8",
        "outputId": "7ca022be-9066-43bd-eee6-16b07ae925ab"
      },
      "outputs": [
        {
          "data": {
            "text/plain": [
              "4"
            ]
          },
          "execution_count": 196,
          "metadata": {
            "tags": []
          },
          "output_type": "execute_result"
        }
      ],
      "source": [
        "def fraczero(n):\n",
        "  zeros = 0\n",
        "  while n > 0:\n",
        "    n //= 5\n",
        "    zeros += n\n",
        "  return zeros\n",
        "\n",
        "fraczero(20)"
      ]
    },
    {
      "cell_type": "markdown",
      "metadata": {
        "colab_type": "text",
        "id": "XINN2dtgdRcL"
      },
      "source": [
        "## Zadanie 6 _(10pt)_\n",
        "\n",
        "Napisz program, który generuje liczbę $20$ liczb losowych (rozkład jednostajny) od $1$ do $100$\n",
        "* Wyświetl listę wygenerowanych liczb\n",
        "* Wyświetl średnią\n",
        "* Wyświetl największą i najmniejszą wartość\n",
        "* Wyświetl drugą największą i drugą najmniejszą wartość na liście\n",
        "* Wyświetl ile jest liczb parzystych na liście\n",
        " "
      ]
    },
    {
      "cell_type": "code",
      "execution_count": 197,
      "metadata": {
        "colab": {
          "base_uri": "https://localhost:8080/",
          "height": 102
        },
        "colab_type": "code",
        "id": "m5gN934cdRcP",
        "outputId": "6bae6be7-67b6-4951-c9c1-50aa297c8676"
      },
      "outputs": [
        {
          "name": "stdout",
          "output_type": "stream",
          "text": [
            "[14, 98, 96, 10, 17, 85, 47, 37, 75, 97, 19, 68, 2, 33, 71, 63, 96, 75, 50, 75]\n",
            "56.4\n",
            "2 98\n",
            "10 97\n",
            "8\n"
          ]
        }
      ],
      "source": [
        "import random\n",
        "import math\n",
        "from functools import reduce\n",
        "\n",
        "def rand_stuff(nums, start, end):\n",
        "  numbers = [int(random.uniform(start, end)) for i in range(nums)]\n",
        "  print(numbers)\n",
        "  print(reduce(lambda prev, curr: prev + curr/len(numbers), numbers, 0))\n",
        "  print(min(numbers), max(numbers))\n",
        "  print(sorted(numbers)[1], sorted(numbers)[-2])\n",
        "  print(len([n for n in numbers if n % 2 == 0]))\n",
        "\n",
        "rand_stuff(20, 1, 100)"
      ]
    },
    {
      "cell_type": "markdown",
      "metadata": {
        "colab_type": "text",
        "id": "js1St3irdRcc"
      },
      "source": [
        "## Zadanie 7 _(10pt)_\n",
        "\n",
        "Załóżmy, że mamy następującą listę: `L = ['aababacaa', 'cabaabcca', 'aaabbcbacb', 'acababbaab', ...]` wygenerowaną losowo tzn. lista zawiera losowe ciągi znaków o zadanej długości z liter `'a'`, `'b'` i `'c'`. Takie wzorce występują w wielu miejscach np. sekwencje DNA. Użytkownik zawiera swój (wzorzec) ciąg znaków z literami i pustymi miejscami oznaczonymi przez `'*'` np. `\"a**a******\"`. Wykorzystaj słownik z kluczami zawierającymi indeksy znaków różnych od `'*'` i wartościami liter z wzorca. Napisz program, który znajduje wszystkie sekwencje z listy, które pasuje do podanego wzorca."
      ]
    },
    {
      "cell_type": "code",
      "execution_count": 0,
      "metadata": {
        "colab": {
          "base_uri": "https://localhost:8080/",
          "height": 34
        },
        "colab_type": "code",
        "id": "MEMQnQOjdRcl",
        "outputId": "7a7c3702-e86b-47fe-c324-e9a5fb689548"
      },
      "outputs": [
        {
          "data": {
            "text/plain": [
              "['aba', 'aca']"
            ]
          },
          "execution_count": 65,
          "metadata": {
            "tags": []
          },
          "output_type": "execute_result"
        }
      ],
      "source": [
        "def matcher(strings, pattern):\n",
        "  dictionary = {i: c for i, c in enumerate(pattern) if c != \"*\"}\n",
        "  return [s for s in strings if all(s[i] == c for i, c in dictionary.items())]\n",
        "\n",
        "matcher(['aba', 'abb', 'aca'], 'a*a')"
      ]
    },
    {
      "cell_type": "markdown",
      "metadata": {
        "colab_type": "text",
        "id": "Xvj59orldRcv"
      },
      "source": [
        "## Zadanie 8 _(10pt)_\n",
        "\n",
        "Napisz program, który konwerteruje liczby rzymskie na liczby arabskie. Do zapisu liczb rzymskich używa\n",
        "się 7 liter: `I=1`, `V=5`, `X=10`, `L=50`, `C=100`, `D=500`, `M=1000`. Opis algorytmu zamiany z i na system rzymski można znaleźć np. [tutaj](http://www.algorytm.org/algorytmy-arytmetyczne/zamiana-z-i-na-system-rzymski.html)"
      ]
    },
    {
      "cell_type": "code",
      "execution_count": 0,
      "metadata": {
        "colab": {
          "base_uri": "https://localhost:8080/",
          "height": 34
        },
        "colab_type": "code",
        "id": "I4QrC05gdRc2",
        "outputId": "1c7cfd4d-1743-4090-e3ef-85b33ead7f20"
      },
      "outputs": [
        {
          "data": {
            "text/plain": [
              "2137"
            ]
          },
          "execution_count": 94,
          "metadata": {
            "tags": []
          },
          "output_type": "execute_result"
        }
      ],
      "source": [
        "def rzymToArabNotException(rzymString):\n",
        "  values = {'I': 1, 'V': 5, 'X': 10, 'L': 50, 'C': 100, 'D': 500, 'M': 1000}\n",
        "  arab = 0\n",
        "  last = 0\n",
        "  for c in rzymString:\n",
        "    if values[c] > last:\n",
        "      arab -= last\n",
        "    else:\n",
        "      arab += last\n",
        "    last = values[c]\n",
        "  return arab + last\n",
        "\n",
        "rzymToArabNotException('MMCXXXVII')"
      ]
    },
    {
      "cell_type": "markdown",
      "metadata": {
        "colab_type": "text",
        "id": "cc9TDu1fdRc_"
      },
      "source": [
        "## Zadanie 9* _(5pt)_\n",
        "\n",
        "Napisz program kalkulator, który pobiera wprowadzone wartości oraz funkcje z klawiatury następnie podaje wynik. W przypadku błędnych danych zgłasza błąd.\n",
        "\n",
        "Przykładowa sesja:\n",
        "```\n",
        "    Kalkulator\n",
        "    [1]: 2+5*10\n",
        "        52\n",
        "    [2]: sin(0.5)+cos(0.3)\n",
        "        1.434762027729809\n",
        "    [3]: 2^100\n",
        "        1267650600228229401496703205376\n",
        "```\n",
        "\n",
        "Przykładowy kod pobierania danych od użytkownika:\n",
        "\n",
        "```\n",
        "    x = input('Podaj x = ')\n",
        "```"
      ]
    },
    {
      "cell_type": "code",
      "execution_count": 0,
      "metadata": {
        "colab": {
          "base_uri": "https://localhost:8080/",
          "height": 51
        },
        "colab_type": "code",
        "id": "RyDqC3AzdRdC",
        "outputId": "f64bfa5b-6c3b-44df-89dc-67b13dd715a0"
      },
      "outputs": [
        {
          "name": "stdout",
          "output_type": "stream",
          "text": [
            "Calc: 2 * 2\n",
            "4\n"
          ]
        }
      ],
      "source": [
        "x = input('Calc: ')\n",
        "print(eval(x))"
      ]
    },
    {
      "cell_type": "markdown",
      "metadata": {
        "colab_type": "text",
        "id": "x4NuiTfddRdK"
      },
      "source": [
        "## Zadanie 10* _(10pt)_\n",
        "\n",
        "Napisz program, który rysuje na ekranie w trybie znakowym wykres funkcji zmiennej $x$. Wskazówka: utwórz  ,,tablicę dwuwymiarową'' o wymiarach 80x24 i narysuj wykres w tej tablicy. Następnie wynik wyświetl na ekranie.\n",
        "\n",
        "```\n",
        "        Podaj funkcje f(x) = sin(x)\n",
        "        Podaj początek przedziału a = -pi\n",
        "        Podaj koniec przedziału b = pi\n",
        "                                                |\n",
        "                                                |\n",
        "                                                |              ***********\n",
        "                                                |           ***           ***\n",
        "                                                |         **                 **\n",
        "                                                |        *                     *\n",
        "                                                |      **                       **\n",
        "                                                |     *                           *\n",
        "                                                |   **                             **\n",
        "                                                |  *                                 *\n",
        "                                                | *                                   *\n",
        "                                                |*                                     *\n",
        "        ----------------------------------------|---------------------------------------\n",
        "          *                                   * |\n",
        "           *                                 *  |\n",
        "            **                             **   |\n",
        "              *                           *     |\n",
        "               **                       **      |\n",
        "                 *                     *        |\n",
        "                  **                 **         |\n",
        "                    ***           ***           |\n",
        "                       ***** *****              |\n",
        "                            *                   |\n",
        "                                                |\n",
        "```"
      ]
    },
    {
      "cell_type": "code",
      "execution_count": 1,
      "metadata": {},
      "outputs": [
        {
          "ename": "SyntaxError",
          "evalue": "unexpected EOF while parsing (<string>, line 0)",
          "output_type": "error",
          "traceback": [
            "Traceback \u001b[1;36m(most recent call last)\u001b[0m:\n",
            "  File \u001b[0;32m\"C:\\Users\\Bartor\\AppData\\Local\\Programs\\Python\\Python37-32\\lib\\site-packages\\IPython\\core\\interactiveshell.py\"\u001b[0m, line \u001b[0;32m3296\u001b[0m, in \u001b[0;35mrun_code\u001b[0m\n    exec(code_obj, self.user_global_ns, self.user_ns)\n",
            "\u001b[1;36m  File \u001b[1;32m\"<ipython-input-1-2375169204b2>\"\u001b[1;36m, line \u001b[1;32m7\u001b[1;36m, in \u001b[1;35m<module>\u001b[1;36m\u001b[0m\n\u001b[1;33m    x0 = eval(input('From: '))\u001b[0m\n",
            "\u001b[1;36m  File \u001b[1;32m\"<string>\"\u001b[1;36m, line \u001b[1;32munknown\u001b[0m\n\u001b[1;33m    \u001b[0m\n\u001b[1;37m    ^\u001b[0m\n\u001b[1;31mSyntaxError\u001b[0m\u001b[1;31m:\u001b[0m unexpected EOF while parsing\n"
          ]
        }
      ],
      "source": [
        "from math import sin, cos, tan, pi\n",
        "\n",
        "height = 24\n",
        "width = 80\n",
        "\n",
        "f = input('Function to plot: ')\n",
        "x0 = eval(input('From: '))\n",
        "x1 = eval(input('To: '))\n",
        "\n",
        "points = [x0 - i/width * (x0 - x1) for i in range(width)]\n",
        "vals = [eval(f) for x in points]\n",
        "yMax = max(vals)\n",
        "yMin = min(vals)\n",
        "\n",
        "for row in range(height):\n",
        "  for i, column in enumerate(points):\n",
        "    if row == round((yMax - vals[i])/(yMax - yMin) * height):\n",
        "      print('*', end='')\n",
        "    elif row == round(yMax / (yMax - yMin) * height):\n",
        "      print('-', end='')\n",
        "    elif i == round(x0 / (x0 - x1) * width):\n",
        "      print('|', end='')\n",
        "    else:\n",
        "      print(' ', end='')\n",
        "  print()"
      ]
    },
    {
      "cell_type": "code",
      "execution_count": null,
      "metadata": {},
      "outputs": [],
      "source": []
    }
  ]
}