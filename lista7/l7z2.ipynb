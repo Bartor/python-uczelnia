{
  "cells": [
    {
      "cell_type": "markdown",
      "metadata": {
        "id": "ONN-XYjht24j",
        "colab_type": "text"
      },
      "source": [
        "Testowane na Google Colab z resnet50_coco_best_v2.1.0.h5"
      ]
    },
    {
      "cell_type": "code",
      "metadata": {
        "id": "FQ10xLknotUF",
        "colab_type": "code",
        "colab": {}
      },
      "source": [
        "!pip install -q git+https://github.com/fizyr/keras-retinanet"
      ],
      "execution_count": 0,
      "outputs": []
    },
    {
      "cell_type": "code",
      "metadata": {
        "id": "1nUy3GJJPEQo",
        "colab_type": "code",
        "colab": {}
      },
      "source": [
        "import keras\n",
        "\n",
        "from keras_retinanet import models\n",
        "from keras_retinanet.utils.image import read_image_bgr, preprocess_image, resize_image\n",
        "from keras_retinanet.utils.visualization import draw_box, draw_caption\n",
        "from keras_retinanet.utils.colors import label_color\n",
        "from keras_retinanet.utils.gpu import setup_gpu\n",
        "\n",
        "import matplotlib.pyplot as plt\n",
        "import cv2\n",
        "import os\n",
        "import numpy as np\n",
        "import time\n",
        "\n",
        "labels_to_names = {\n",
        "    0: 'person', 1: 'bicycle', 2: 'car', 3: 'motorcycle', 4: 'airplane',\n",
        "    5: 'bus', 6: 'train', 7: 'truck', 8: 'boat', 9: 'traffic light',\n",
        "    10: 'fire hydrant', 11: 'stop sign', 12: 'parking meter', 13: 'bench',\n",
        "    14: 'bird', 15: 'cat', 16: 'dog', 17: 'horse', 18: 'sheep', 19: 'cow',\n",
        "    20: 'elephant', 21: 'bear', 22: 'zebra', 23: 'giraffe', 24: 'backpack',\n",
        "    25: 'umbrella', 26: 'handbag', 27: 'tie', 28: 'suitcase', 29: 'frisbee',\n",
        "    30: 'skis', 31: 'snowboard', 32: 'sports ball', 33: 'kite',\n",
        "    34: 'baseball bat', 35: 'baseball glove', 36: 'skateboard',\n",
        "    37: 'surfboard', 38: 'tennis racket', 39: 'bottle', 40: 'wine glass',\n",
        "    41: 'cup', 42: 'fork', 43: 'knife', 44: 'spoon', 45: 'bowl',\n",
        "    46: 'banana', 47: 'apple', 48: 'sandwich', 49: 'orange', 50: 'broccoli',\n",
        "    51: 'carrot', 52: 'hot dog', 53: 'pizza', 54: 'donut', 55: 'cake',\n",
        "    56: 'chair', 57: 'couch', 58: 'potted plant', 59: 'bed',\n",
        "    60: 'dining table', 61: 'toilet', 62: 'tv', 63: 'laptop', 64: 'mouse',\n",
        "    65: 'remote', 66: 'keyboard', 67: 'cell phone', 68: 'microwave',\n",
        "    69: 'oven', 70: 'toaster', 71: 'sink', 72: 'refrigerator', 73: 'book',\n",
        "    74: 'clock', 75: 'vase', 76: 'scissors', 77: 'teddy bear',\n",
        "    78: 'hair drier', 79: 'toothbrush'}\n",
        "\n",
        "model = models.load_model('resnet50_coco_best_v2.1.0.h5', backbone_name='resnet50')\n",
        "setup_gpu(0)\n",
        "\n",
        "def analyze_image(image, labels):\n",
        "  global model\n",
        "  draw = image.copy()\n",
        "  draw = cv2.cvtColor(draw, cv2.COLOR_BGR2RGB)\n",
        "\n",
        "  image = preprocess_image(image)\n",
        "  image, scale = resize_image(image)\n",
        "\n",
        "  start = time.time()\n",
        "  boxes, scores, labels = model.predict_on_batch(np.expand_dims(image, axis=0))\n",
        "  print(\"Processing time: \", time.time() - start)\n",
        "\n",
        "  boxes /= scale\n",
        "\n",
        "  for box, score, label in zip(boxes[0], scores[0], labels[0]):\n",
        "      if score < 0.5:\n",
        "          break\n",
        "\n",
        "      color = label_color(label)\n",
        "\n",
        "      b = box.astype(int)\n",
        "      draw_box(draw, b, color=color)\n",
        "\n",
        "      caption = \"{} {:.3f}\".format(labels_to_names[label], score)\n",
        "      draw_caption(draw, b, caption)\n",
        "\n",
        "  plt.figure(figsize=(15, 15))\n",
        "  plt.axis('off')\n",
        "  plt.imshow(draw)\n",
        "  plt.show()\n",
        "\n",
        "images = [\n",
        "          '000000284962.jpg',\n",
        "          '000000366550.jpg',\n",
        "          '000000370553.jpg',\n",
        "          '000000521272.jpg',\n",
        "          '000000530976.jpg',\n",
        "          '000000532894.jpg'\n",
        "]\n",
        "\n",
        "for image_path in images:\n",
        "  image = read_image_bgr(image_path)\n",
        "  analyze_image(image, labels_to_names)"
      ],
      "execution_count": 0,
      "outputs": []
    },
    {
      "cell_type": "code",
      "metadata": {
        "id": "lW6Iv75GwINH",
        "colab_type": "code",
        "colab": {}
      },
      "source": [
        "def grab_camera_snapshot(camera_id=0):\n",
        "    camera = cv2.VideoCapture(camera_id)\n",
        "    try:\n",
        "        for i in range(15):\n",
        "            snapshot_ok, image = camera.read()\n",
        "        if not snapshot_ok:\n",
        "            raise \"Couldn't take an image\"\n",
        "\n",
        "    finally:\n",
        "        camera.release()\n",
        "    return image\n",
        "\n",
        "\n",
        "try:\n",
        "  image = grab_camera_snapshot()\n",
        "  analyze_image(image, labels_to_names)\n",
        "except:\n",
        "  print('There was an error when trying to take a picture')"
      ],
      "execution_count": 0,
      "outputs": []
    }
  ],
  "metadata": {
    "colab": {
      "name": "l7z2",
      "provenance": [],
      "collapsed_sections": []
    },
    "kernelspec": {
      "name": "python3",
      "display_name": "Python 3"
    }
  },
  "nbformat": 4,
  "nbformat_minor": 0
}